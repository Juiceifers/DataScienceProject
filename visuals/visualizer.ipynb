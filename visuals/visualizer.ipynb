{
 "cells": [
  {
   "cell_type": "code",
   "execution_count": 19,
   "metadata": {},
   "outputs": [],
   "source": [
    "import pandas as pd\n",
    "import numpy as np\n",
    "import matplotlib.pyplot as plt\n",
    "import seaborn as sns\n",
    "import json\n",
    "import string\n",
    "\n",
    "import warnings\n",
    "warnings.filterwarnings(\"ignore\")\n",
    "\n",
    "%matplotlib inline\n"
   ]
  },
  {
   "cell_type": "markdown",
   "metadata": {},
   "source": [
    "#### Firstly, enter the paths of the corresonding input files in the code cell below."
   ]
  },
  {
   "cell_type": "code",
   "execution_count": 9,
   "metadata": {},
   "outputs": [],
   "source": [
    "SENTIMENTS = \"/Users/merterol/Desktop/UZH/CompLing:CompSci/CompSci/Sem2/ESC403/ESC403_Project/DataScienceProject/sentiment/sentiment_Switzerland_comments_cleaned_pretty.json\"\n",
    "CLEANED = \"/Users/merterol/Desktop/UZH/CompLing:CompSci/CompSci/Sem2/ESC403/ESC403_Project/DataScienceProject/raw data/pretty jsons/Switzerland_comments_cleaned_pretty.json\" #HAS TO BE X_cleaned_pretty.json\n",
    "OUTPUT = \"/Users/merterol/Desktop/UZH/CompLing:CompSci/CompSci/Sem2/ESC403/ESC403_Project/DataScienceProject/visuals/df_csv/\""
   ]
  },
  {
   "cell_type": "markdown",
   "metadata": {},
   "source": [
    "# Conversion\n",
    "\n",
    "#### Converting the input files to the required format and then merging them into a single file that can be used for manipulation and visualization"
   ]
  },
  {
   "cell_type": "markdown",
   "metadata": {},
   "source": [
    "#### JSON to CSV converter"
   ]
  },
  {
   "cell_type": "code",
   "execution_count": 15,
   "metadata": {},
   "outputs": [],
   "source": [
    "with open(SENTIMENTS, \"r\") as file:\n",
    "    data = json.load(file)\n",
    "\n",
    "# Convert the dictionary into a DataFrame\n",
    "df = pd.DataFrame(list(data.items()), columns=[\"Date\", \"Text\"])\n",
    "\n",
    "# Since \"Text\" column contains dictionaries, directly convert dictionary keys to separate DataFrame columns\n",
    "df[[\"Polarity\", \"Subjectivity\"]] = df[\"Text\"].apply(pd.Series)\n",
    "\n",
    "# Now drop the original \"Text\" column\n",
    "df.drop(columns=[\"Text\"], inplace = True)\n",
    "\n",
    "# Save the DataFrame to a CSV file\n",
    "df.to_csv(OUTPUT + \"df_sent.csv\", index=False)"
   ]
  },
  {
   "cell_type": "code",
   "execution_count": 26,
   "metadata": {},
   "outputs": [],
   "source": [
    "with open(CLEANED, \"r\") as file:\n",
    "    data = json.load(file)\n",
    "\n",
    "# Convert the dictionary into a DataFrame\n",
    "df = pd.DataFrame(list(data.items()), columns=[\"Date\", \"Text\"])\n",
    "\n",
    "# Remove all punctuation from the \"Text\" column\n",
    "df[\"Text\"] = df[\"Text\"].str.replace(\"[^\\w\\s]\", \"\", regex=True)\n",
    "df[\"Text\"] = df[\"Text\"].str.replace(\"\\n\", \" \", regex=True)\n",
    "df[\"Text\"] = df[\"Text\"].str.replace(\"\\r\", \" \", regex=True)\n",
    "\n",
    "# Save the DataFrame to a CSV file with a semicolon as the delimiter\n",
    "df.to_csv(OUTPUT + \"df_cleaned.csv\", index=False)\n"
   ]
  },
  {
   "cell_type": "markdown",
   "metadata": {},
   "source": [
    "#### Combining the two newly generated csv files on their common column"
   ]
  },
  {
   "cell_type": "code",
   "execution_count": 27,
   "metadata": {},
   "outputs": [],
   "source": [
    "df_sent = pd.read_csv(OUTPUT + \"df_sent.csv\")\n",
    "df_cleaned = pd.read_csv(OUTPUT + \"df_cleaned.csv\")\n",
    "\n",
    "df_merged = pd.merge(df_cleaned, df_sent, on=\"Date\", how=\"inner\").to_csv(OUTPUT + \"df_merged.csv\", index=False)"
   ]
  },
  {
   "cell_type": "markdown",
   "metadata": {},
   "source": [
    "# Start of DataFrame manipulation"
   ]
  },
  {
   "cell_type": "code",
   "execution_count": 30,
   "metadata": {},
   "outputs": [
    {
     "data": {
      "text/html": [
       "<div>\n",
       "<style scoped>\n",
       "    .dataframe tbody tr th:only-of-type {\n",
       "        vertical-align: middle;\n",
       "    }\n",
       "\n",
       "    .dataframe tbody tr th {\n",
       "        vertical-align: top;\n",
       "    }\n",
       "\n",
       "    .dataframe thead th {\n",
       "        text-align: right;\n",
       "    }\n",
       "</style>\n",
       "<table border=\"1\" class=\"dataframe\">\n",
       "  <thead>\n",
       "    <tr style=\"text-align: right;\">\n",
       "      <th></th>\n",
       "      <th>Date</th>\n",
       "      <th>Text</th>\n",
       "      <th>Polarity</th>\n",
       "      <th>Subjectivity</th>\n",
       "    </tr>\n",
       "  </thead>\n",
       "  <tbody>\n",
       "    <tr>\n",
       "      <th>0</th>\n",
       "      <td>2008-07-30 18:59:43</td>\n",
       "      <td>oops I added an extra is</td>\n",
       "      <td>0.000000</td>\n",
       "      <td>0.100000</td>\n",
       "    </tr>\n",
       "    <tr>\n",
       "      <th>1</th>\n",
       "      <td>2008-08-03 15:59:01</td>\n",
       "      <td>Something to remember in this is that the tool...</td>\n",
       "      <td>0.060417</td>\n",
       "      <td>0.489583</td>\n",
       "    </tr>\n",
       "    <tr>\n",
       "      <th>2</th>\n",
       "      <td>2008-09-04 15:13:39</td>\n",
       "      <td>The modern witch hunt</td>\n",
       "      <td>0.200000</td>\n",
       "      <td>0.300000</td>\n",
       "    </tr>\n",
       "    <tr>\n",
       "      <th>3</th>\n",
       "      <td>2008-10-21 07:50:04</td>\n",
       "      <td>i can quit anytime i want</td>\n",
       "      <td>0.000000</td>\n",
       "      <td>0.000000</td>\n",
       "    </tr>\n",
       "    <tr>\n",
       "      <th>4</th>\n",
       "      <td>2008-10-22 14:02:30</td>\n",
       "      <td>If taxes werent so damn high and wasted on she...</td>\n",
       "      <td>0.053333</td>\n",
       "      <td>0.246667</td>\n",
       "    </tr>\n",
       "  </tbody>\n",
       "</table>\n",
       "</div>"
      ],
      "text/plain": [
       "                  Date                                               Text  \\\n",
       "0  2008-07-30 18:59:43                           oops I added an extra is   \n",
       "1  2008-08-03 15:59:01  Something to remember in this is that the tool...   \n",
       "2  2008-09-04 15:13:39                              The modern witch hunt   \n",
       "3  2008-10-21 07:50:04                         i can quit anytime i want    \n",
       "4  2008-10-22 14:02:30  If taxes werent so damn high and wasted on she...   \n",
       "\n",
       "   Polarity  Subjectivity  \n",
       "0  0.000000      0.100000  \n",
       "1  0.060417      0.489583  \n",
       "2  0.200000      0.300000  \n",
       "3  0.000000      0.000000  \n",
       "4  0.053333      0.246667  "
      ]
     },
     "execution_count": 30,
     "metadata": {},
     "output_type": "execute_result"
    }
   ],
   "source": [
    "df = pd.read_csv(OUTPUT + \"df_merged.csv\")\n",
    "df.head()"
   ]
  }
 ],
 "metadata": {
  "kernelspec": {
   "display_name": "Python 3",
   "language": "python",
   "name": "python3"
  },
  "language_info": {
   "codemirror_mode": {
    "name": "ipython",
    "version": 3
   },
   "file_extension": ".py",
   "mimetype": "text/x-python",
   "name": "python",
   "nbconvert_exporter": "python",
   "pygments_lexer": "ipython3",
   "version": "3.12.3"
  }
 },
 "nbformat": 4,
 "nbformat_minor": 2
}
